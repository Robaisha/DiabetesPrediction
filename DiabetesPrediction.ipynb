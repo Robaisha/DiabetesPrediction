{
 "cells": [
  {
   "cell_type": "markdown",
   "id": "4b339f23",
   "metadata": {},
   "source": [
    "Importing Libraries "
   ]
  },
  {
   "cell_type": "code",
   "execution_count": null,
   "id": "534ab5e3",
   "metadata": {},
   "outputs": [],
   "source": [
    "import numpy as np\n",
    "import pandas as pd\n",
    "import matplotlib.pyplot as plt\n",
    "from sklearn.preprocessing import StandardScaler\n",
    "from sklearn.model_selection import train_test_split\n",
    "from sklearn import svm\n",
    "from sklearn.metrics import accuracy_score"
   ]
  },
  {
   "cell_type": "markdown",
   "id": "3557db46",
   "metadata": {},
   "source": [
    "Data Collection and Analysis"
   ]
  },
  {
   "cell_type": "code",
   "execution_count": null,
   "id": "20bc4619",
   "metadata": {},
   "outputs": [],
   "source": [
    "diabetes_dataset=pd.read_csv(\"diabetes.csv\")"
   ]
  },
  {
   "cell_type": "code",
   "execution_count": null,
   "id": "d4b49eb9",
   "metadata": {},
   "outputs": [],
   "source": [
    "diabetes_dataset.head()"
   ]
  },
  {
   "cell_type": "code",
   "execution_count": null,
   "id": "e7ea2aa1",
   "metadata": {},
   "outputs": [],
   "source": [
    "diabetes_dataset.count()"
   ]
  },
  {
   "cell_type": "markdown",
   "id": "b9410455",
   "metadata": {},
   "source": [
    "Check No of Rows and Columns"
   ]
  },
  {
   "cell_type": "code",
   "execution_count": null,
   "id": "a27d3dd6",
   "metadata": {},
   "outputs": [],
   "source": [
    "diabetes_dataset.shape"
   ]
  },
  {
   "cell_type": "markdown",
   "id": "c3da042f",
   "metadata": {},
   "source": [
    "Calculate Statistical Measurements"
   ]
  },
  {
   "cell_type": "code",
   "execution_count": null,
   "id": "df1cf069",
   "metadata": {},
   "outputs": [],
   "source": [
    "diabetes_dataset.describe()"
   ]
  },
  {
   "cell_type": "markdown",
   "id": "4145e6ec",
   "metadata": {},
   "source": [
    "Check Outcome of Dataset"
   ]
  },
  {
   "cell_type": "code",
   "execution_count": null,
   "id": "1bda45cd",
   "metadata": {},
   "outputs": [],
   "source": [
    "diabetes_dataset['Outcome'].value_counts()"
   ]
  },
  {
   "cell_type": "markdown",
   "id": "0b87a67e",
   "metadata": {},
   "source": [
    "Check Mean"
   ]
  },
  {
   "cell_type": "code",
   "execution_count": null,
   "id": "69c6643d",
   "metadata": {
    "scrolled": true
   },
   "outputs": [],
   "source": [
    "diabetes_dataset.groupby('Outcome').mean()"
   ]
  },
  {
   "cell_type": "markdown",
   "id": "e4adb649",
   "metadata": {},
   "source": [
    "Separating Outcome from Table"
   ]
  },
  {
   "cell_type": "code",
   "execution_count": null,
   "id": "6e19087a",
   "metadata": {},
   "outputs": [],
   "source": [
    "X=diabetes_dataset.drop(columns='Outcome',axis=1)   #axis=1 for column else 0 for row\n",
    "Y=diabetes_dataset['Outcome']"
   ]
  },
  {
   "cell_type": "code",
   "execution_count": null,
   "id": "9bf5d524",
   "metadata": {},
   "outputs": [],
   "source": [
    "print(X)\n",
    "print(Y)"
   ]
  },
  {
   "cell_type": "markdown",
   "id": "72341c0c",
   "metadata": {},
   "source": [
    "Data Standardization"
   ]
  },
  {
   "cell_type": "code",
   "execution_count": null,
   "id": "a99dc997",
   "metadata": {},
   "outputs": [],
   "source": [
    "scaler=StandardScaler()"
   ]
  },
  {
   "cell_type": "code",
   "execution_count": null,
   "id": "f897efb8",
   "metadata": {},
   "outputs": [],
   "source": [
    "scaler.fit(X)"
   ]
  },
  {
   "cell_type": "code",
   "execution_count": null,
   "id": "e4381426",
   "metadata": {},
   "outputs": [],
   "source": [
    "standardized_data=scaler.transform(X)"
   ]
  },
  {
   "cell_type": "code",
   "execution_count": null,
   "id": "4000e3c5",
   "metadata": {},
   "outputs": [],
   "source": [
    "print(standardized_data)"
   ]
  },
  {
   "cell_type": "code",
   "execution_count": null,
   "id": "e875739d",
   "metadata": {},
   "outputs": [],
   "source": [
    "X=standardized_data\n",
    "Y=diabetes_dataset['Outcome']"
   ]
  },
  {
   "cell_type": "markdown",
   "id": "68473b76",
   "metadata": {},
   "source": [
    "Train Test Split"
   ]
  },
  {
   "cell_type": "code",
   "execution_count": null,
   "id": "8a77314d",
   "metadata": {},
   "outputs": [],
   "source": [
    "X_train ,X_test , Y_train, Y_test=train_test_split(X,Y,test_size=0.2,stratify=Y,random_state=2)"
   ]
  },
  {
   "cell_type": "code",
   "execution_count": null,
   "id": "e6b427bc",
   "metadata": {},
   "outputs": [],
   "source": [
    "print(X.shape , X_train.shape, X_test.shape)"
   ]
  },
  {
   "cell_type": "markdown",
   "id": "8cb8a68c",
   "metadata": {},
   "source": [
    "Training The Model"
   ]
  },
  {
   "cell_type": "code",
   "execution_count": null,
   "id": "da56c3c7",
   "metadata": {},
   "outputs": [],
   "source": [
    "classifier=svm.SVC(kernel='linear')"
   ]
  },
  {
   "cell_type": "code",
   "execution_count": null,
   "id": "502eba99",
   "metadata": {},
   "outputs": [],
   "source": [
    "#training the support vector machine classifier\n",
    "classifier.fit(X_train,Y_train)"
   ]
  },
  {
   "cell_type": "markdown",
   "id": "342bcb37",
   "metadata": {},
   "source": [
    "Model Evaluation"
   ]
  },
  {
   "cell_type": "code",
   "execution_count": null,
   "id": "f973246a",
   "metadata": {},
   "outputs": [],
   "source": [
    "X_train_prediction=classifier.predict(X_train)\n",
    "training_data_accuracy=accuracy_score(X_train_prediction,Y_train)"
   ]
  },
  {
   "cell_type": "code",
   "execution_count": null,
   "id": "b62cb5b6",
   "metadata": {},
   "outputs": [],
   "source": [
    "print(training_data_accuracy*100)"
   ]
  },
  {
   "cell_type": "code",
   "execution_count": null,
   "id": "40dcc94c",
   "metadata": {},
   "outputs": [],
   "source": [
    "X_test_prediction=classifier.predict(X_test)\n",
    "test_data_accuracy=accuracy_score(X_test_prediction,Y_test)"
   ]
  },
  {
   "cell_type": "code",
   "execution_count": null,
   "id": "1bf976d7",
   "metadata": {},
   "outputs": [],
   "source": [
    "print(test_data_accuracy*100)"
   ]
  },
  {
   "cell_type": "markdown",
   "id": "0488def6",
   "metadata": {},
   "source": [
    "Prediction"
   ]
  },
  {
   "cell_type": "code",
   "execution_count": null,
   "id": "939f051e",
   "metadata": {},
   "outputs": [],
   "source": [
    "input_data=[6,148,72,35,0,33.6,0.627,50]\n",
    "\n",
    "#change the data into numpy array\n",
    "input_data_array=np.asarray(input_data)\n",
    "\n",
    "#reshape the array for one instance \n",
    "input_data_reshaped=input_data_array.reshape(1,-1)\n",
    "\n",
    "#standardize the data\n",
    "std_data=scaler.transform(input_data_reshaped)\n",
    "\n",
    "print(std_data)\n",
    "\n",
    "prediction=classifier.predict(std_data)\n",
    "print(prediction)"
   ]
  },
  {
   "cell_type": "code",
   "execution_count": null,
   "id": "b2486b57",
   "metadata": {},
   "outputs": [],
   "source": []
  }
 ],
 "metadata": {
  "kernelspec": {
   "display_name": "Python 3 (ipykernel)",
   "language": "python",
   "name": "python3"
  },
  "language_info": {
   "codemirror_mode": {
    "name": "ipython",
    "version": 3
   },
   "file_extension": ".py",
   "mimetype": "text/x-python",
   "name": "python",
   "nbconvert_exporter": "python",
   "pygments_lexer": "ipython3",
   "version": "3.10.5"
  }
 },
 "nbformat": 4,
 "nbformat_minor": 5
}
